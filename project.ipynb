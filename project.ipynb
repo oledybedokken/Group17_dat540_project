{
 "cells": [
  {
   "cell_type": "code",
   "execution_count": 18,
   "metadata": {},
   "outputs": [
    {
     "name": "stderr",
     "output_type": "stream",
     "text": [
      "/tmp/ipykernel_7398/2887181283.py:2: DtypeWarning: Columns (9) have mixed types. Specify dtype option on import or set low_memory=False.\n",
      "  df = pd.read_csv('SBAnational.csv')\n"
     ]
    }
   ],
   "source": [
    "import pandas as pd\n",
    "df = pd.read_csv('SBAnational.csv') "
   ]
  },
  {
   "cell_type": "code",
   "execution_count": 24,
   "metadata": {},
   "outputs": [],
   "source": [
    "def daterange_between(a_start, a_end, b_start, b_end):\n",
    "    return np.minimum(a_end, b_end) > np.maximum(a_start, b_start)"
   ]
  },
  {
   "cell_type": "code",
   "execution_count": 26,
   "metadata": {},
   "outputs": [
    {
     "data": {
      "text/plain": [
       "LoanNr_ChkDgt                 1000014003\n",
       "Name                      ABC HOBBYCRAFT\n",
       "City                          EVANSVILLE\n",
       "State                                 IN\n",
       "Zip                                47711\n",
       "Bank                    FIFTH THIRD BANK\n",
       "BankState                             OH\n",
       "NAICS                             451120\n",
       "ApprovalDate                   28-Feb-97\n",
       "ApprovalFY                          1997\n",
       "Term                                  84\n",
       "NoEmp                                  4\n",
       "NewExist                             2.0\n",
       "CreateJob                              0\n",
       "RetainedJob                            0\n",
       "FranchiseCode                          1\n",
       "UrbanRural                             0\n",
       "RevLineCr                              N\n",
       "LowDoc                                 Y\n",
       "ChgOffDate                           NaN\n",
       "DisbursementDate     1999-02-28 00:00:00\n",
       "DisbursementGross                60000.0\n",
       "BalanceGross                         0.0\n",
       "MIS_Status                         P I F\n",
       "ChgOffPrinGr                         0.0\n",
       "GrAppv                           60000.0\n",
       "SBA_Appv                         48000.0\n",
       "RealEstate                             0\n",
       "Portion                              0.8\n",
       "EndDate              2006-02-28 00:00:00\n",
       "Recession                              0\n",
       "Name: 0, dtype: object"
      ]
     },
     "execution_count": 26,
     "metadata": {},
     "output_type": "execute_result"
    }
   ],
   "source": [
    "import numpy as np\n",
    "cols = ['DisbursementGross', 'BalanceGross', 'ChgOffPrinGr', 'GrAppv', 'SBA_Appv']\n",
    "df[cols] = df[cols].replace({'\\$': '', ' ': '', ',':''}, regex=True).astype(float)\n",
    "df['DisbursementDate'] = pd.to_datetime(df['DisbursementDate'][0])\n",
    "df = df.assign(\n",
    "    RealEstate = lambda x: pd.cut(x['Term'], bins=[0, 240, 999999], labels=[0,1]),\n",
    "    Portion = lambda x: x['SBA_Appv'] / x['DisbursementGross'],\n",
    "    EndDate = lambda x: x['DisbursementDate'] + x['Term'].astype('timedelta64[M]'),\n",
    "    Recession = lambda x: daterange_between(np.datetime64('2007-12-01'),np.datetime64('2009-01-01'), x['DisbursementDate'], x['EndDate']).astype(int)\n",
    ")\n",
    "df.iloc[0]\n"
   ]
  },
  {
   "cell_type": "markdown",
   "metadata": {},
   "source": [
    "ANN \n",
    "Artificial neural networks"
   ]
  },
  {
   "cell_type": "code",
   "execution_count": 51,
   "metadata": {},
   "outputs": [
    {
     "data": {
      "text/plain": [
       "array([[0.        , 1.        , 1.        ],\n",
       "       [1.        , 0.85      , 1.        ],\n",
       "       [0.        , 0.28930497, 0.        ],\n",
       "       ...,\n",
       "       [0.        , 0.9       , 0.        ],\n",
       "       [0.        , 0.5       , 0.        ],\n",
       "       [0.        , 0.25045583, 0.        ]])"
      ]
     },
     "execution_count": 51,
     "metadata": {},
     "output_type": "execute_result"
    }
   ],
   "source": [
    "from keras.utils.np_utils  import to_categorical\n",
    "from sklearn.model_selection import train_test_split\n",
    "\n",
    "x = df[['RealEstate', 'Portion', 'Recession']].to_numpy()\n",
    "y = df['MIS_Status'].apply(lambda x: int((x=='CHGOFF')))\n",
    "\n",
    "y = to_categorical(y, num_classes=None) \n",
    "\n",
    "# Testing wit train test67% 33%\n",
    "X_train,X_test,y_train,y_test=train_test_split(x,y,test_size=0.33,random_state=42)\n",
    "\n"
   ]
  },
  {
   "cell_type": "markdown",
   "metadata": {},
   "source": [
    "Creating a ANN model"
   ]
  },
  {
   "cell_type": "code",
   "execution_count": null,
   "metadata": {},
   "outputs": [],
   "source": []
  }
 ],
 "metadata": {
  "interpreter": {
   "hash": "e7370f93d1d0cde622a1f8e1c04877d8463912d04d973331ad4851f04de6915a"
  },
  "kernelspec": {
   "display_name": "Python 3.9.9 64-bit",
   "language": "python",
   "name": "python3"
  },
  "language_info": {
   "codemirror_mode": {
    "name": "ipython",
    "version": 3
   },
   "file_extension": ".py",
   "mimetype": "text/x-python",
   "name": "python",
   "nbconvert_exporter": "python",
   "pygments_lexer": "ipython3",
   "version": "3.9.9"
  },
  "orig_nbformat": 4
 },
 "nbformat": 4,
 "nbformat_minor": 2
}
